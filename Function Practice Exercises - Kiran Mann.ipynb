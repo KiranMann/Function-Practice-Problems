{
 "cells": [
  {
   "cell_type": "markdown",
   "id": "b9ad07b4",
   "metadata": {},
   "source": [
    "# PROBLEM: 1\n",
    "\n",
    "LESSER OF TWO EVENS: Write a function that returns the lesser of two given numbers if both numbers are even, but returns the greater if one or both numbers are odd\n",
    "lesser_of_two_evens(2,4) --> 2\n",
    "lesser_of_two_evens(2,5) --> 5"
   ]
  },
  {
   "cell_type": "code",
   "execution_count": 3,
   "id": "efb8ed1e",
   "metadata": {},
   "outputs": [
    {
     "data": {
      "text/plain": [
       "4"
      ]
     },
     "execution_count": 3,
     "metadata": {},
     "output_type": "execute_result"
    }
   ],
   "source": [
    "def myfunc(a,b):\n",
    "    if a%2==0 and b%2==0:\n",
    "        if a>b:\n",
    "            return b\n",
    "        else:\n",
    "            return a\n",
    "    else:\n",
    "        if a>b:\n",
    "            return a\n",
    "        else:\n",
    "            return b\n",
    "myfunc(4,10)\n",
    "        "
   ]
  },
  {
   "cell_type": "markdown",
   "id": "5fb1fc89",
   "metadata": {},
   "source": [
    "# PROBLEM 2:\n",
    "\n",
    "ANIMAL CRACKERS: Write a function takes a two-word string and returns True if both words begin with same letter\n",
    "animal_crackers('Levelheaded Llama') --> True\n",
    "animal_crackers('Crazy Kangaroo') --> False"
   ]
  },
  {
   "cell_type": "code",
   "execution_count": 17,
   "id": "4c9d2c51",
   "metadata": {},
   "outputs": [
    {
     "data": {
      "text/plain": [
       "True"
      ]
     },
     "execution_count": 17,
     "metadata": {},
     "output_type": "execute_result"
    }
   ],
   "source": [
    "def myfunc(text):\n",
    "    mylist = text.split( )\n",
    "    return mylist[0][0] == mylist[1][0]\n",
    "   \n",
    "myfunc('crazy cight')"
   ]
  },
  {
   "cell_type": "markdown",
   "id": "7921e0be",
   "metadata": {},
   "source": [
    "# PROBLEM 3:\n",
    "\n",
    "MAKES TWENTY: Given two integers, return True if the sum of the integers is 20 or if one of the integers is 20. If not, return False\n",
    "makes_twenty(20,10) --> True\n",
    "makes_twenty(12,8) --> True\n",
    "makes_twenty(2,3) --> False"
   ]
  },
  {
   "cell_type": "code",
   "execution_count": 21,
   "id": "b0b3c97b",
   "metadata": {},
   "outputs": [
    {
     "data": {
      "text/plain": [
       "True"
      ]
     },
     "execution_count": 21,
     "metadata": {},
     "output_type": "execute_result"
    }
   ],
   "source": [
    "def myfunc(a,b):\n",
    "    if a+b ==20 or a==20 or b==20:\n",
    "        return True\n",
    "    else:\n",
    "        return False\n",
    "myfunc(5,15)"
   ]
  },
  {
   "cell_type": "markdown",
   "id": "9e43babe",
   "metadata": {},
   "source": [
    "# PROBLEM 4:\n",
    "\n",
    "\n",
    "OLD MACDONALD: Write a function that capitalizes the first and fourth letters of a name\n",
    "old_macdonald('macdonald') --> MacDonald"
   ]
  },
  {
   "cell_type": "code",
   "execution_count": 15,
   "id": "937775ef",
   "metadata": {},
   "outputs": [
    {
     "data": {
      "text/plain": [
       "'The text enetered is too short!!'"
      ]
     },
     "execution_count": 15,
     "metadata": {},
     "output_type": "execute_result"
    }
   ],
   "source": [
    "def myfunc_capital(text):\n",
    "    if len(text)>3:\n",
    "        return text[:3].capitalize() + text[3:].capitalize()\n",
    "    else:\n",
    "        return 'The text enetered is too short!!'\n",
    "myfunc_capital('Mac')\n",
    "    "
   ]
  },
  {
   "cell_type": "markdown",
   "id": "13bfd979",
   "metadata": {},
   "source": [
    "# PROBLEM 5:\n",
    "    \n",
    "Given a sentence, return a sentence with the words reversed\n",
    "master_yoda('I am home') --> 'home am I'\n",
    "master_yoda('We are ready') --> 'ready are We'"
   ]
  },
  {
   "cell_type": "code",
   "execution_count": 19,
   "id": "c7f4eb45",
   "metadata": {},
   "outputs": [
    {
     "data": {
      "text/plain": [
       "['home', 'am', 'I']"
      ]
     },
     "execution_count": 19,
     "metadata": {},
     "output_type": "execute_result"
    }
   ],
   "source": [
    "def myfunc(text):\n",
    "    text=text.split()\n",
    "    return text[::-1]\n",
    "myfunc('I am home')"
   ]
  },
  {
   "cell_type": "markdown",
   "id": "f96acf32",
   "metadata": {},
   "source": [
    "# PROBLEM 6:\n",
    "\n",
    "Given an integer n, return True if n is within 10 of either 100 or 200\n",
    "almost_there(90) --> True\n",
    "almost_there(104) --> True\n",
    "almost_there(150) --> False\n",
    "almost_there(209) --> True\n"
   ]
  },
  {
   "cell_type": "code",
   "execution_count": 22,
   "id": "57ae6fc7",
   "metadata": {},
   "outputs": [
    {
     "data": {
      "text/plain": [
       "False"
      ]
     },
     "execution_count": 22,
     "metadata": {},
     "output_type": "execute_result"
    }
   ],
   "source": [
    "def myfunc(n):\n",
    "    if 90<n<110 or 190<n<210:\n",
    "        return True\n",
    "    else:\n",
    "        return False\n",
    "myfunc(116)\n"
   ]
  },
  {
   "cell_type": "code",
   "execution_count": 25,
   "id": "0a828f11",
   "metadata": {},
   "outputs": [
    {
     "data": {
      "text/plain": [
       "False"
      ]
     },
     "execution_count": 25,
     "metadata": {},
     "output_type": "execute_result"
    }
   ],
   "source": [
    "def myfunc(n):\n",
    "    return (abs(100-n)<=10) or (abs(200-n)<=10)\n",
    "myfunc(115)"
   ]
  },
  {
   "cell_type": "markdown",
   "id": "05843244",
   "metadata": {},
   "source": [
    "# PROBLEM 7:\n",
    "FIND 33:\n",
    "Given a list of ints, return True if the array contains a 3 next to a 3 somewhere.\n",
    "\n",
    "has_33([1, 3, 3]) → True\n",
    "has_33([1, 3, 1, 3]) → False\n",
    "has_33([3, 1, 3]) → False"
   ]
  },
  {
   "cell_type": "code",
   "execution_count": 41,
   "id": "399d3be1",
   "metadata": {},
   "outputs": [
    {
     "data": {
      "text/plain": [
       "False"
      ]
     },
     "execution_count": 41,
     "metadata": {},
     "output_type": "execute_result"
    }
   ],
   "source": [
    "def has_33(num):\n",
    "    for i in range(0,len(num)-1):\n",
    "        if num[i] ==3 and num[i+1] ==3:\n",
    "            return True\n",
    "        else:\n",
    "            return False\n",
    "has_33([1,5,8,4,9,3,5,6,4,7,5])\n",
    "    "
   ]
  },
  {
   "cell_type": "code",
   "execution_count": 47,
   "id": "6153ef57",
   "metadata": {
    "scrolled": true
   },
   "outputs": [
    {
     "data": {
      "text/plain": [
       "True"
      ]
     },
     "execution_count": 47,
     "metadata": {},
     "output_type": "execute_result"
    }
   ],
   "source": [
    "def has_33(num):\n",
    "    for i in range(0,len(num)-1):\n",
    "        if num[i:i+2] == [3,3]:\n",
    "            return True\n",
    "    return False\n",
    "has_33([1,5,8,4,9,3,3,5,6,4,7,5])"
   ]
  },
  {
   "cell_type": "markdown",
   "id": "d55cf68d",
   "metadata": {},
   "source": [
    "# PROBLEM 8:\n",
    "\n",
    "Given a string, return a string where for every character in the original there are three characters\n",
    "paper_doll('Hello') --> 'HHHeeellllllooo'\n",
    "paper_doll('Mississippi') --> 'MMMiiissssssiiippppppiii'"
   ]
  },
  {
   "cell_type": "code",
   "execution_count": 63,
   "id": "19f61e47",
   "metadata": {},
   "outputs": [
    {
     "data": {
      "text/plain": [
       "'KKKiiirrraaannn'"
      ]
     },
     "execution_count": 63,
     "metadata": {},
     "output_type": "execute_result"
    }
   ],
   "source": [
    "def tripple_string(string):\n",
    "    new_string =''\n",
    "    for char in string:\n",
    "        new_string += char*3\n",
    "    return new_string\n",
    "tripple_string('Kiran')        \n"
   ]
  },
  {
   "cell_type": "markdown",
   "id": "f51c53f7",
   "metadata": {},
   "source": [
    "# PROBLEM 9:\n",
    "\n",
    "Given three integers between 1 and 11, if their sum is less than or equal to 21, return their sum. If their sum exceeds 21 and there's an eleven, reduce the total sum by 10. Finally, if the sum (even after adjustment) exceeds 21, return 'BUST'\n",
    "blackjack(5,6,7) --> 18\n",
    "blackjack(9,9,9) --> 'BUST'\n",
    "blackjack(9,9,11) --> 19"
   ]
  },
  {
   "cell_type": "code",
   "execution_count": 68,
   "id": "9ff26361",
   "metadata": {},
   "outputs": [
    {
     "data": {
      "text/plain": [
       "15"
      ]
     },
     "execution_count": 68,
     "metadata": {},
     "output_type": "execute_result"
    }
   ],
   "source": [
    "def sumof_3(a,b,c):\n",
    "    \n",
    "    if sum((a,b,c)) <=21:\n",
    "        return sum((a,b,c))\n",
    "    elif sum((a,b,c)) >21 and 11 in (a,b,c):\n",
    "        return sum((a,b,c))-10\n",
    "    elif sum((a,b,c)) >21:\n",
    "        return 'BUST'\n",
    "sumof_3(5,9,11)\n",
    "        \n"
   ]
  },
  {
   "cell_type": "code",
   "execution_count": null,
   "id": "50ca2a12",
   "metadata": {},
   "outputs": [],
   "source": [
    "def blackjack(a,b,c):\n",
    "    \n",
    "    if sum((a,b,c)) <= 21:\n",
    "        return sum((a,b,c))\n",
    "    elif sum((a,b,c)) <=31 and 11 in (a,b,c):\n",
    "        return sum((a,b,c)) - 10\n",
    "    else:\n",
    "        return 'BUST'"
   ]
  },
  {
   "cell_type": "markdown",
   "id": "4896edfb",
   "metadata": {},
   "source": [
    "\n",
    "# PROBLEM 10:\n",
    "\n",
    "SUMMER OF '69: Return the sum of the numbers in the array, except ignore sections of numbers starting with a 6 and extending to the next 9 (every 6 will be followed by at least one 9). Return 0 for no numbers.\n",
    "summer_69([1, 3, 5]) --> 9\n",
    "summer_69([4, 5, 6, 7, 8, 9]) --> 9\n",
    "summer_69([2, 1, 6, 9, 11]) --> 14"
   ]
  },
  {
   "cell_type": "code",
   "execution_count": 72,
   "id": "19f195ca",
   "metadata": {},
   "outputs": [
    {
     "data": {
      "text/plain": [
       "9"
      ]
     },
     "execution_count": 72,
     "metadata": {},
     "output_type": "execute_result"
    }
   ],
   "source": [
    "def add_function(array):\n",
    "    sum_total = 0\n",
    "    add = True\n",
    "    for num in array:\n",
    "        while add:\n",
    "            if num !=6:\n",
    "                sum_total +=num\n",
    "                break\n",
    "            else:\n",
    "                add = False\n",
    "        while not add:\n",
    "            if num !=9:\n",
    "                break\n",
    "            else:\n",
    "                add = True\n",
    "                break\n",
    "    return sum_total\n",
    "add_function([4,6,3,5,9,5])\n"
   ]
  },
  {
   "cell_type": "markdown",
   "id": "6f724f63",
   "metadata": {},
   "source": [
    "# PROBLEM 11:\n",
    "\n",
    "SPY GAME: Write a function that takes in a list of integers and returns True if it contains 007 in order\n",
    " spy_game([1,2,4,0,0,7,5]) --> True\n",
    " spy_game([1,0,2,4,0,5,7]) --> True\n",
    " spy_game([1,7,2,0,4,5,0]) --> False"
   ]
  },
  {
   "cell_type": "code",
   "execution_count": 74,
   "id": "d1a1d5df",
   "metadata": {},
   "outputs": [
    {
     "data": {
      "text/plain": [
       "True"
      ]
     },
     "execution_count": 74,
     "metadata": {},
     "output_type": "execute_result"
    }
   ],
   "source": [
    "def spy_game(array):\n",
    "    order = [0,0,7,'x']\n",
    "    for num in array:\n",
    "        if num == order[0]:\n",
    "            order.pop(0)\n",
    "    return len(order) == 1\n",
    "spy_game([1,0,5,2,0,1,3,0,4,65,7])\n"
   ]
  },
  {
   "cell_type": "markdown",
   "id": "7a1fa7dd",
   "metadata": {},
   "source": [
    "# PROBLEM 12:\n",
    "\n",
    "COUNT PRIMES: Write a function that returns the number of prime numbers that exist up to and including a given number\n",
    "count_primes(100) --> 25\n",
    "\n",
    "By convention, 0 and 1 are not prime."
   ]
  },
  {
   "cell_type": "code",
   "execution_count": 1,
   "id": "e8cf5a19",
   "metadata": {},
   "outputs": [
    {
     "name": "stdout",
     "output_type": "stream",
     "text": [
      "[2, 3, 5, 7, 11, 13, 17, 19, 23, 29, 31, 37, 41, 43, 47, 53, 59, 61, 67, 71, 73, 79, 83, 89, 97]\n"
     ]
    },
    {
     "data": {
      "text/plain": [
       "25"
      ]
     },
     "execution_count": 1,
     "metadata": {},
     "output_type": "execute_result"
    }
   ],
   "source": [
    "def count_primes(num):\n",
    "    primes = [2]\n",
    "    x = 3\n",
    "    if num < 2:\n",
    "        return 0\n",
    "    while x <= num:\n",
    "        for y in primes:  # use the primes list!\n",
    "            if x%y == 0:\n",
    "                x += 2\n",
    "                break\n",
    "        else:\n",
    "            primes.append(x)\n",
    "            x += 2\n",
    "    print(primes)\n",
    "    return len(primes)\n",
    "count_primes(100)"
   ]
  }
 ],
 "metadata": {
  "kernelspec": {
   "display_name": "Python 3 (ipykernel)",
   "language": "python",
   "name": "python3"
  },
  "language_info": {
   "codemirror_mode": {
    "name": "ipython",
    "version": 3
   },
   "file_extension": ".py",
   "mimetype": "text/x-python",
   "name": "python",
   "nbconvert_exporter": "python",
   "pygments_lexer": "ipython3",
   "version": "3.9.7"
  }
 },
 "nbformat": 4,
 "nbformat_minor": 5
}
