{
 "cells": [
  {
   "cell_type": "code",
   "execution_count": 5,
   "id": "de998f39",
   "metadata": {},
   "outputs": [
    {
     "data": {
      "text/plain": [
       "17"
      ]
     },
     "execution_count": 5,
     "metadata": {},
     "output_type": "execute_result"
    }
   ],
   "source": [
    "#define a function which returns addition of two numbers.\n",
    "def jupiter(num1, num2):\n",
    "    add = num1+ num2\n",
    "    return add\n",
    "jupiter(8, num2=9)\n",
    "    "
   ]
  },
  {
   "cell_type": "code",
   "execution_count": 3,
   "id": "a6057c9a",
   "metadata": {},
   "outputs": [
    {
     "data": {
      "text/plain": [
       "[2, 4, 6, 8, 10]"
      ]
     },
     "execution_count": 3,
     "metadata": {},
     "output_type": "execute_result"
    }
   ],
   "source": [
    "# Define a function which returns even numbers from the list provided.\n",
    "def even_list(num_list):\n",
    "    \"\"\"returns the even number list\"\"\"\n",
    "    even_numbers=[]\n",
    "    for number in num_list:\n",
    "        if number % 2 == 0:\n",
    "            even_numbers.append(number)\n",
    "        else:\n",
    "            pass\n",
    "    return even_numbers\n",
    "even_list([1,2,3,4,5,6,7,8,9,10])"
   ]
  },
  {
   "cell_type": "code",
   "execution_count": 11,
   "id": "562f64b7",
   "metadata": {},
   "outputs": [
    {
     "data": {
      "text/plain": [
       "('A', 400)"
      ]
     },
     "execution_count": 11,
     "metadata": {},
     "output_type": "execute_result"
    }
   ],
   "source": [
    "# Find the name of the employee of the year - a person who has maximum work hours.\n",
    "work_hours = [('A', 400), ('B', 225), ('C', 150), ('D', 200)]\n",
    "def employee_check(work_hours):\n",
    "    \"\"\"This function will return name of the employee of the year along with his work hours\"\"\"\n",
    "    employee_name =''\n",
    "    employee_hours = 0\n",
    "    for employee,hours in work_hours:\n",
    "        if hours > employee_hours:\n",
    "            employee_hours = hours\n",
    "            employee_name = employee\n",
    "        else:\n",
    "            pass\n",
    "    return employee_name, employee_hours\n",
    "employee_check(work_hours)"
   ]
  },
  {
   "cell_type": "code",
   "execution_count": 34,
   "id": "45b470fc",
   "metadata": {},
   "outputs": [
    {
     "name": "stdout",
     "output_type": "stream",
     "text": [
      "pick a number: 0, 1, or 2 \t:  2\n",
      "Correct!\n",
      "[' ', ' ', 'O']\n"
     ]
    }
   ],
   "source": [
    "from random import shuffle\n",
    "mylist = [' ', 'O', ' ']\n",
    "def shuffle_list(mylist):\n",
    "    shuffle(mylist)\n",
    "    return mylist\n",
    "\n",
    "def player_guess():\n",
    "    guess = ''\n",
    "    while guess not in ['0', '1', '2']:\n",
    "        guess = input(\"pick a number: 0, 1, or 2 \\t:  \")\n",
    "    return int(guess)\n",
    "\n",
    "def check_guess(mylist, guess):\n",
    "    if mylist[guess] =='O':\n",
    "        print(\"Correct!\")\n",
    "        print(mylist)\n",
    "    else:\n",
    "        print(\"Wrong Guess!\")\n",
    "        print(mylist)\n",
    "\n",
    "my_list = shuffle_list(mylist)\n",
    "\n",
    "myindex = player_guess() \n",
    "\n",
    "check_guess(my_list, myindex)"
   ]
  },
  {
   "cell_type": "code",
   "execution_count": 42,
   "id": "aeec8ed7",
   "metadata": {
    "scrolled": true
   },
   "outputs": [
    {
     "name": "stdout",
     "output_type": "stream",
     "text": [
      "pick a number: 1, 2, or 3 \t:  2\n",
      "Correct!\n",
      "[' ', 'O', ' ']\n"
     ]
    }
   ],
   "source": [
    "from random import shuffle\n",
    "mylist = [' ', 'O', ' ']\n",
    "def shuffle_list(mylist):\n",
    "    shuffle(mylist)\n",
    "    return mylist\n",
    "\n",
    "def player_guess():\n",
    "    guess = ''\n",
    "    while guess not in ['3', '1', '2']:\n",
    "        guess = input(\"pick a number: 1, 2, or 3 \\t:  \")\n",
    "    return int(guess)\n",
    "\n",
    "def check_guess(mylist, guess):\n",
    "    if mylist[guess-1] =='O':\n",
    "        print(\"Correct!\")\n",
    "        print(mylist)\n",
    "    else:\n",
    "        print(\"Wrong Guess!\")\n",
    "        print(mylist)\n",
    "\n",
    "my_list = shuffle_list(mylist)\n",
    "\n",
    "myindex = player_guess() \n",
    "\n",
    "check_guess(my_list, myindex)"
   ]
  },
  {
   "cell_type": "code",
   "execution_count": 14,
   "id": "41f8f9aa",
   "metadata": {},
   "outputs": [
    {
     "data": {
      "text/plain": [
       "8"
      ]
     },
     "execution_count": 14,
     "metadata": {},
     "output_type": "execute_result"
    }
   ],
   "source": [
    "mylist = []\n",
    "def myfunc(*args):\n",
    "    for i in args:\n",
    "        if i%2 == 0:\n",
    "            return i                \n",
    "myfunc(5,8,6,9)\n"
   ]
  },
  {
   "cell_type": "code",
   "execution_count": 34,
   "id": "fcd4d525",
   "metadata": {},
   "outputs": [
    {
     "data": {
      "text/plain": [
       "[4, 2, 6, 8, 54]"
      ]
     },
     "execution_count": 34,
     "metadata": {},
     "output_type": "execute_result"
    }
   ],
   "source": [
    "# This function would return list of even numbers in the arbitrary argument list\n",
    "mylist=[]\n",
    "def myfunc(*args):\n",
    "    for i in args:\n",
    "        if i%2 == 0:\n",
    "           mylist.append(i) \n",
    "    return mylist\n",
    "        \n",
    "myfunc(4,5,2,6,7,9,65,8,54)"
   ]
  }
 ],
 "metadata": {
  "kernelspec": {
   "display_name": "Python 3 (ipykernel)",
   "language": "python",
   "name": "python3"
  },
  "language_info": {
   "codemirror_mode": {
    "name": "ipython",
    "version": 3
   },
   "file_extension": ".py",
   "mimetype": "text/x-python",
   "name": "python",
   "nbconvert_exporter": "python",
   "pygments_lexer": "ipython3",
   "version": "3.9.7"
  }
 },
 "nbformat": 4,
 "nbformat_minor": 5
}
